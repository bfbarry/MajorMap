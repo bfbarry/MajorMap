{
 "cells": [
  {
   "cell_type": "code",
   "execution_count": 1,
   "metadata": {},
   "outputs": [],
   "source": [
    "from bs4 import BeautifulSoup\n",
    "import requests\n",
    "import pandas as pd\n",
    "import numpy as np\n",
    "import nltk\n",
    "import re #regex"
   ]
  },
  {
   "cell_type": "markdown",
   "metadata": {},
   "source": [
    "Eventually create a list of major codes and run a for loop to get all dataframes"
   ]
  },
  {
   "cell_type": "code",
   "execution_count": null,
   "metadata": {},
   "outputs": [],
   "source": [
    "#From https://stackoverflow.com/questions/13332192/inherent-way-to-save-web-page-source\n",
    "# This puts all the course catalog webpages into a folder 'sites'\n",
    "depts = ['ANTH','BIOI','BIOL','CHEM','CHIN','CLAS','CCS','COGS','COMM','CGS','CAT','DSC','DSGN','DOC','ECON','EDS','ENG','BENG','CSE','ECE','MAE','NANO','SE','ENVR','ESYS','ETHN','FMPH','FILM','GLBH','HIST','HDS','HR','HUM','INTL','JAPN','JWSP','LATI','LAWS','LING','LIT','MGT','MATH','MUS','PHIL','PHYS','POLI','PSYC','RELI','SCIS','SIO','SOC','THEA','TWS','USP','VIS']\n",
    "\n",
    "for dept in depts:\n",
    "    url =  'https://www.ucsd.edu/catalog/courses/' + dept + '.html'\n",
    "    page = urllib.request.urlopen(url)\n",
    "    page_content = page.read()\n",
    "    with open('sites/' + dept + '_courses.html', 'wb') as fid:\n",
    "        fid.write(page_content)"
   ]
  },
  {
   "cell_type": "code",
   "execution_count": null,
   "metadata": {},
   "outputs": [],
   "source": [
    "#this beautifulsoups those catalogs from the folder\n",
    "def extract_course_catalog(dept): #where dept is a string\n",
    "    f = open('/sites' + dept + '_courses.html') #dept is all caps     \n",
    "    soup = BeautifulSoup(f, 'html.parser')"
   ]
  },
  {
   "cell_type": "code",
   "execution_count": 2,
   "metadata": {},
   "outputs": [],
   "source": [
    "dept = 'MATH'\n",
    "site_url = 'https://www.ucsd.edu/catalog/courses/MATH.html'\n",
    "page = requests.get(site_url)\n",
    "soup = BeautifulSoup(page.content, 'html.parser')\n",
    "\n",
    "#https://stackoverflow.com/questions/49010813/how-to-find-a-particular-class-in-beautifulsoup-using-findall"
   ]
  },
  {
   "cell_type": "markdown",
   "metadata": {},
   "source": [
    "# Looking at just names and descriptions w/ htmlclass separation"
   ]
  },
  {
   "cell_type": "code",
   "execution_count": 3,
   "metadata": {},
   "outputs": [],
   "source": [
    "#full_list = soup.find_all(\"p\", {\"class\": \"anchor-parent\"}) \n",
    "\n",
    "names = soup.find_all(\"p\", {\"class\": \"course-name\"})\n",
    "descriptions = soup.find_all(\"p\", {\"class\": \"course-descriptions\"}) #includes prereqs (so want to extract that)"
   ]
  },
  {
   "cell_type": "code",
   "execution_count": 7,
   "metadata": {},
   "outputs": [],
   "source": [
    "name_list = [] #this is in HTML contains all course header info\n",
    "\n",
    "for x in names:\n",
    "    name_list.append(str(x))"
   ]
  },
  {
   "cell_type": "code",
   "execution_count": 8,
   "metadata": {},
   "outputs": [],
   "source": [
    "course_ids = []\n",
    "course_names = []\n",
    "course_units = [] \n",
    "\n",
    "for n in np.arange(len(name_list) - 1):\n",
    "    #for i in np.arange(len(name_list[n]) - 1):\n",
    "    x = name_list[n]\n",
    "    course_ids.append(x[len('<p class=\"course-name\">') + len(dept) + 1 : x.index('.')])\n",
    "    course_names.append(x[x.index('.')+2:len(x)-8])\n",
    "    course_units.append(x[len(x)-6])"
   ]
  },
  {
   "cell_type": "markdown",
   "metadata": {},
   "source": [
    "## Some course names are weird (why?) e.g. 'Foundations\\n\\t\\t  of Teaching and Learning Mathematics I'"
   ]
  },
  {
   "cell_type": "markdown",
   "metadata": {},
   "source": [
    "## Course units cut off (why?)"
   ]
  },
  {
   "cell_type": "code",
   "execution_count": 9,
   "metadata": {},
   "outputs": [],
   "source": [
    "course_nums = []\n",
    "\n",
    "for i in course_ids:\n",
    "    course_nums.append(re.findall(r'\\d+|\\D+', i)) #regex makes id's in format 'Num' + 'Letter'    \n",
    "\n",
    "#regex for this \\d+|\\D+\n",
    "\n",
    "# just nums: r'^\\d+'"
   ]
  },
  {
   "cell_type": "markdown",
   "metadata": {},
   "source": [
    "#### use list comprehension it is cleaner\n",
    "\n",
    "finding indices of class category"
   ]
  },
  {
   "cell_type": "code",
   "execution_count": 10,
   "metadata": {},
   "outputs": [],
   "source": [
    "for i in course_nums:\n",
    "    if len(i[0]) == 2:\n",
    "        try:\n",
    "            lower_div_i = course_ids.index(i[0]+i[1]) #last index of lower divisions\n",
    "        except IndexError:\n",
    "            lower_div_i = course_ids.index(i[0])\n",
    "    if int(i[0]) < 200:\n",
    "        try:\n",
    "            upper_div_i = course_ids.index(i[0]+i[1]) #\" \" of upper divisions\n",
    "        except IndexError:\n",
    "            upper_div_i = course_ids.index(i[0])\n",
    "        \n",
    "#[i for i,val in enumerate(l) if val==]"
   ]
  },
  {
   "cell_type": "markdown",
   "metadata": {},
   "source": [
    "https://stackoverflow.com/questions/6294179/how-to-find-all-occurrences-of-an-element-in-a-list\n"
   ]
  },
  {
   "cell_type": "markdown",
   "metadata": {},
   "source": [
    "### How to find last value before 200"
   ]
  },
  {
   "cell_type": "code",
   "execution_count": 11,
   "metadata": {},
   "outputs": [],
   "source": [
    "#converting description blocks into lists\n",
    "\n",
    "desc_list = []\n",
    "for i in descriptions:\n",
    "    desc_list.append(re.findall(r\"\\w+,*\", str(i)))"
   ]
  },
  {
   "cell_type": "code",
   "execution_count": 12,
   "metadata": {},
   "outputs": [],
   "source": [
    "# Removing graduate courses\n",
    "\n",
    "course_ids = course_ids[0:upper_div_i + 1]\n",
    "course_names = course_names[0:upper_div_i + 1]\n",
    "course_units = course_units[0:upper_div_i + 1]\n",
    "desc_list = desc_list[0:upper_div_i + 1]"
   ]
  },
  {
   "cell_type": "code",
   "execution_count": 13,
   "metadata": {},
   "outputs": [],
   "source": [
    "#extracting prerequisites.  \n",
    "\n",
    "prereq_list = []\n",
    "\n",
    "for i in np.arange(len(desc_list)):\n",
    "    x = desc_list[i]\n",
    "    try: \n",
    "        prereq_list.append(x[x.index('Prerequisites')+2:len(x)-1])\n",
    "    except ValueError:\n",
    "        print('prereq extraction error at index', i) \n",
    "        prereq_list.append('None')"
   ]
  },
  {
   "cell_type": "markdown",
   "metadata": {},
   "source": [
    "## Check where the ValueErrors occur!  In some cases it may be faulty html e.g Math 157 has weird indent and misses prereq section"
   ]
  },
  {
   "cell_type": "markdown",
   "metadata": {},
   "source": [
    "Before cell below, need to clear the following words/strings: \n",
    "'either'\n",
    "\n",
    "and turn this:\n",
    "\n",
    "'Students',\n",
    "  'who',\n",
    "  'have',\n",
    "  'not',\n",
    "  'completed',\n",
    "  'listed',\n",
    "  'prerequisites',\n",
    "  'may',\n",
    "  'enroll',\n",
    "  'with',\n",
    "  'consent',\n",
    "  'of',\n",
    "  'instructor'\n",
    "  \n",
    "into just \" or + consent of instructor\"\n"
   ]
  },
  {
   "cell_type": "markdown",
   "metadata": {},
   "source": [
    "### might have to parse for or and make the lists 3d"
   ]
  },
  {
   "cell_type": "code",
   "execution_count": 15,
   "metadata": {
    "scrolled": true
   },
   "outputs": [],
   "source": [
    "prereqs_2d = []\n",
    "for n in np.arange(len(course_ids)):\n",
    "    ps = prereq_list[n]\n",
    "    ps_2d = [[]]\n",
    "    inner_i = 0\n",
    "    for i in np.arange(len(ps)):    \n",
    "        if ps[i] != 'and':\n",
    "            ps_2d[inner_i].append(ps[i])\n",
    "        #if ps[i] == 'students' or \n",
    "        else:\n",
    "            ps_2d.append([])\n",
    "            inner_i = inner_i + 1\n",
    "    prereqs_2d.append(ps_2d)"
   ]
  },
  {
   "cell_type": "code",
   "execution_count": null,
   "metadata": {},
   "outputs": [],
   "source": [
    "n = [['MATH', '140A', 'or', 'consent', 'of', 'instructor'], [asdasdasd]]\n",
    "\n",
    "prereqs_3d = []\n",
    "for n in np.arange(len(course_ids)):\n",
    "    ps = prereq_list[n]:\n",
    "        for i in np.arange(len(ps)):\n",
    "            for i2 in ps[i]:\n",
    "                if i2 "
   ]
  },
  {
   "cell_type": "code",
   "execution_count": 32,
   "metadata": {},
   "outputs": [
    {
     "data": {
      "text/plain": [
       "'112A'"
      ]
     },
     "execution_count": 32,
     "metadata": {},
     "output_type": "execute_result"
    }
   ],
   "source": [
    "course_ids[36]"
   ]
  },
  {
   "cell_type": "code",
   "execution_count": 19,
   "metadata": {},
   "outputs": [
    {
     "data": {
      "text/plain": [
       "[['strong',\n",
       "  'MATH',\n",
       "  '11',\n",
       "  'or',\n",
       "  'MATH',\n",
       "  '180A',\n",
       "  'or',\n",
       "  'MATH',\n",
       "  '183',\n",
       "  'or',\n",
       "  'MATH',\n",
       "  '186,'],\n",
       " ['MATH', '18', 'or', 'MATH', '31AH,'],\n",
       " ['MATH', '20D,'],\n",
       " ['BILD',\n",
       "  '1',\n",
       "  'Students',\n",
       "  'who',\n",
       "  'have',\n",
       "  'not',\n",
       "  'completed',\n",
       "  'listed',\n",
       "  'prerequisites',\n",
       "  'may',\n",
       "  'enroll',\n",
       "  'with',\n",
       "  'consent',\n",
       "  'of',\n",
       "  'instructor']]"
      ]
     },
     "execution_count": 19,
     "metadata": {},
     "output_type": "execute_result"
    }
   ],
   "source": [
    "prereqs_2d[36]"
   ]
  },
  {
   "cell_type": "markdown",
   "metadata": {},
   "source": [
    "all classes are going to have to be in the same object unless more looping"
   ]
  },
  {
   "cell_type": "code",
   "execution_count": 23,
   "metadata": {},
   "outputs": [
    {
     "ename": "SyntaxError",
     "evalue": "invalid syntax (<ipython-input-23-889b7b9f37a0>, line 3)",
     "output_type": "error",
     "traceback": [
      "\u001b[0;36m  File \u001b[0;32m\"<ipython-input-23-889b7b9f37a0>\"\u001b[0;36m, line \u001b[0;32m3\u001b[0m\n\u001b[0;31m    look at prereqs of the prereq:\u001b[0m\n\u001b[0m          ^\u001b[0m\n\u001b[0;31mSyntaxError\u001b[0m\u001b[0;31m:\u001b[0m invalid syntax\n"
     ]
    }
   ],
   "source": [
    "for prereq in prereqs_for_some_class:\n",
    "    preprereqs = [] # prereqs for this prereq \n",
    "    look at prereqs of the prereq:\n",
    "        repeat?\n",
    "\n",
    "\n",
    "for i in prereqs:\n",
    "    prereqs_3d[course_ids.index(i)]\n",
    "    "
   ]
  },
  {
   "cell_type": "markdown",
   "metadata": {},
   "source": [
    "# Want to create dataframe with Columns: name, ID, prereqs, descs (?)"
   ]
  },
  {
   "cell_type": "code",
   "execution_count": null,
   "metadata": {},
   "outputs": [],
   "source": [
    "course_info_df = pd.DataFrame({'Course id': course_ids, 'Course name': course_names, 'Course units' = course_units, 'Prereqs' = })"
   ]
  },
  {
   "cell_type": "markdown",
   "metadata": {},
   "source": [
    "Course names array must be in 2d.\n",
    "\n",
    "[[Math 2, Introduction to College Mathematics], [MATH 3, Precalculus] ...] "
   ]
  },
  {
   "cell_type": "code",
   "execution_count": 78,
   "metadata": {},
   "outputs": [
    {
     "name": "stdout",
     "output_type": "stream",
     "text": [
      "(205,)\n"
     ]
    }
   ],
   "source": [
    "\n",
    "#course_page = course_page[0:int(np.where(course_page == '<p class=\"course-name\">MATH 200A-B-C. Algebra (4-4-4)</p>')[0])]"
   ]
  },
  {
   "cell_type": "code",
   "execution_count": 51,
   "metadata": {},
   "outputs": [
    {
     "ename": "SyntaxError",
     "evalue": "unexpected EOF while parsing (<ipython-input-51-89e5bcb3f799>, line 5)",
     "output_type": "error",
     "traceback": [
      "\u001b[0;36m  File \u001b[0;32m\"<ipython-input-51-89e5bcb3f799>\"\u001b[0;36m, line \u001b[0;32m5\u001b[0m\n\u001b[0;31m    \u001b[0m\n\u001b[0m    ^\u001b[0m\n\u001b[0;31mSyntaxError\u001b[0m\u001b[0;31m:\u001b[0m unexpected EOF while parsing\n"
     ]
    }
   ],
   "source": [
    "courses = []\n",
    "start = ' <p class=\"course-name\"> '\n",
    "stop = '</p>'\n",
    "for i in course_page:\n",
    "    for s in i:\n",
    "        "
   ]
  },
  {
   "cell_type": "markdown",
   "metadata": {},
   "source": [
    "# GRAPHS\n",
    "\n",
    "adjacency matrix or array of vertex pairs?\n",
    "\n",
    "-adj lists"
   ]
  },
  {
   "cell_type": "markdown",
   "metadata": {},
   "source": [
    "have to consider inter departmental case and how to access their respective course_ids etc"
   ]
  },
  {
   "cell_type": "markdown",
   "metadata": {},
   "source": [
    "The loop should keep going as long as it can find the class in a prereq object.\n",
    "\n",
    "dictionaries?  [Dept, ID] : [prereqs]"
   ]
  },
  {
   "cell_type": "code",
   "execution_count": null,
   "metadata": {},
   "outputs": [],
   "source": [
    "def get_prereq(dept, num):\n",
    "    a = course_ids.index(num) # [!] need to specify for dept\n",
    "    return prereqs_3d[a]"
   ]
  },
  {
   "cell_type": "markdown",
   "metadata": {},
   "source": [
    "#### The recursive part\n",
    "\n",
    "input: course\n",
    "intermediary input: the course's immediate prerequisites\n",
    "\n",
    "the loop: should iterate down until no more prereq\n",
    "\n",
    "output: A graph"
   ]
  },
  {
   "cell_type": "code",
   "execution_count": null,
   "metadata": {},
   "outputs": [],
   "source": [
    "eg_prq = [ [['CSE', '8B'], ['CSE','11']],  [['MATH', '18'], ['MATH', '31AH']], [['MATH', '20E']], [['MATH','180A']] ]\n",
    "\n",
    "map_graph = []\n",
    "for i1 in eg_prq:\n",
    "    for i2 in i1:\n",
    "        prqs = get_prereq(i2[0], i2[1])\n",
    "        \n",
    "        \n",
    "        \n",
    "    map_graph.append([c1, c2])\n",
    "        \n",
    "        #dept = n[0][0]\n",
    "                \n",
    "                if eg_prq[i] == prereq_list[x] "
   ]
  },
  {
   "cell_type": "code",
   "execution_count": 9,
   "metadata": {},
   "outputs": [],
   "source": [
    "a = []\n",
    "a.append(1)\n"
   ]
  },
  {
   "cell_type": "code",
   "execution_count": 10,
   "metadata": {},
   "outputs": [
    {
     "data": {
      "text/plain": [
       "[1]"
      ]
     },
     "execution_count": 10,
     "metadata": {},
     "output_type": "execute_result"
    }
   ],
   "source": [
    "a"
   ]
  },
  {
   "cell_type": "code",
   "execution_count": null,
   "metadata": {},
   "outputs": [],
   "source": [
    "{'MATH 2' : ([name], [prereqs], [], [])}"
   ]
  },
  {
   "cell_type": "code",
   "execution_count": 34,
   "metadata": {},
   "outputs": [
    {
     "data": {
      "text/plain": [
       "['<p class=\"course-name\">MATH 2. Introduction to College Mathematics (4)</p>',\n",
       " '<p class=\"course-name\">MATH 3C. Precalculus (4)</p>',\n",
       " '<p class=\"course-name\">MATH 4C. Precalculus for Science and Engineering (4)</p>',\n",
       " '<p class=\"course-name\">MATH 10A. Calculus I (4)</p>',\n",
       " '<p class=\"course-name\">MATH 10B. Calculus II (4)</p>',\n",
       " '<p class=\"course-name\">MATH 10C. Calculus III (4)</p>',\n",
       " '<p class=\"course-name\">MATH 11. Calculus-Based Introductory Probability and Statistics (5)</p>',\n",
       " '<p class=\"course-name\">MATH 15A. Introduction to Discrete Mathematics (4)</p>',\n",
       " '<p class=\"course-name\">MATH 18. Linear Algebra (4)</p>',\n",
       " '<p class=\"course-name\">MATH 20A. Calculus for Science and Engineering (4)</p>',\n",
       " '<p class=\"course-name\">MATH 20B. Calculus for Science and Engineering (4)</p>',\n",
       " '<p class=\"course-name\">MATH 20C. Calculus\\n\\t\\t  and Analytic Geometry for Science and Engineering (4)</p>',\n",
       " '<p class=\"course-name\">MATH 20D. Introduction to Differential Equations (4)</p>',\n",
       " '<p class=\"course-name\">MATH 20E. Vector Calculus (4)</p>',\n",
       " '<p class=\"course-name\">MATH 31AH. Honors Linear Algebra (4)</p>',\n",
       " '<p class=\"course-name\">MATH 31BH. Honors Multivariable Calculus (4)</p>',\n",
       " '<p class=\"course-name\">MATH 31CH. Honors Vector Calculus (4)</p>',\n",
       " '<p class=\"course-name\">MATH 87. Freshman Seminar (1)</p>',\n",
       " '<p class=\"course-name\">MATH 95. Introduction to Teaching Math (2)</p>',\n",
       " '<p class=\"course-name\">MATH 96. Putnam Seminar (1)</p>',\n",
       " '<p class=\"course-name\">MATH 99R. Independent Study (1) </p>',\n",
       " '<p class=\"course-name\">MATH 100A. Abstract Algebra I (4)</p>',\n",
       " '<p class=\"course-name\">MATH 100B. Abstract Algebra II (4)</p>',\n",
       " '<p class=\"course-name\">MATH 100C. Abstract Algebra III (4)</p>',\n",
       " '<p class=\"course-name\">MATH 102. Applied Linear Algebra (4)</p>',\n",
       " '<p class=\"course-name\">MATH 103A. Modern Algebra I (4)</p>',\n",
       " '<p class=\"course-name\">MATH 103B. Modern Algebra II (4)</p>',\n",
       " '<p class=\"course-name\">MATH 104A. Number Theory I (4)</p>',\n",
       " '<p class=\"course-name\">MATH 104B. Number Theory\\n                  II (4)</p>',\n",
       " '<p class=\"course-name\">MATH 104C. Number Theory III (4)</p>',\n",
       " '<p class=\"course-name\">MATH 105. Basic Number Theory (4)</p>',\n",
       " '<p class=\"course-name\">MATH 106. Introduction to Algebraic Geometry (4)</p>',\n",
       " '<p class=\"course-name\">MATH 109. Mathematical Reasoning (4)</p>',\n",
       " '<p class=\"course-name\">MATH 110. Introduction to Partial Differential Equations (4)</p>',\n",
       " '<p class=\"course-name\">MATH 111A.\\n                  Mathematical Modeling I (4)</p>',\n",
       " '<p class=\"course-name\">MATH 111B. Mathematical Modeling II (4)</p>',\n",
       " '<p class=\"course-name\">MATH 112A. Introduction to Mathematical Biology I (4)</p>',\n",
       " '<p class=\"course-name\">MATH 112B. Introduction to Mathematical Biology II (4)</p>',\n",
       " '<p class=\"course-name\">MATH 114. Introduction to Computational Stochastics (4)</p>',\n",
       " '<p class=\"course-name\">MATH 120A. Elements of Complex Analysis (4)</p>',\n",
       " '<p class=\"course-name\">MATH 120B. Applied Complex Analysis (4)</p>',\n",
       " '<p class=\"course-name\">MATH 121A. Foundations\\n\\t\\t  of Teaching and Learning Mathematics I (4)</p>',\n",
       " '<p class=\"course-name\">MATH 121B. Foundations\\n\\t\\t  of Teaching and Learning Math II (4)</p>',\n",
       " '<p class=\"course-name\">MATH 130. Differential Equations and Dynamical Systems  (4)</p>',\n",
       " '<p class=\"course-name\">MATH 140A. Foundations of Real Analysis I (4)</p>',\n",
       " '<p class=\"course-name\">MATH 140B. Foundations of Real Analysis II (4)</p>',\n",
       " '<p class=\"course-name\">MATH 140C. Foundations of Real Analysis III (4)</p>',\n",
       " '<p class=\"course-name\">MATH 142A. Introduction to Analysis I (4)</p>',\n",
       " '<p class=\"course-name\">MATH 142B. Introduction to Analysis II (4)</p>',\n",
       " '<p class=\"course-name\">MATH 144. Introduction to Fourier Analysis (4)</p>',\n",
       " '<p class=\"course-name\">MATH 146. Analysis of Ordinary Differential Equations (4)</p>',\n",
       " '<p class=\"course-name\">MATH 148. Analysis of Partial Differential Equations (4)</p>',\n",
       " '<p class=\"course-name\">MATH 150A. Differential Geometry (4)</p>',\n",
       " '<p class=\"course-name\">MATH 150B. Calculus on Manifolds (4)</p>',\n",
       " '<p class=\"course-name\">MATH 152. Applicable Mathematics and Computing (4)</p>',\n",
       " '<p class=\"course-name\">MATH 153. Geometry for Secondary Teachers (4)</p>',\n",
       " '<p class=\"course-name\">MATH 154. Discrete Mathematics and Graph Theory (4) </p>',\n",
       " '<p class=\"course-name\">MATH 155A. Geometric Computer Graphics (4)</p>',\n",
       " '<p class=\"course-name\">MATH 155B.\\xa0Topics in Computer Graphics (4)</p>',\n",
       " '<p class=\"course-name\">MATH 157. Introduction to Mathematical Software (4)</p>',\n",
       " '<p class=\"course-name\">MATH 158. Extremal Combinatorics and Graph Theory (4)</p>',\n",
       " '<p class=\"course-name\">MATH 160A. Elementary Mathematical Logic I (4)</p>',\n",
       " '<p class=\"course-name\">MATH 160B. Elementary Mathematical Logic II (4)</p>',\n",
       " '<p class=\"course-name\">MATH 163. History of Mathematics (4)</p>',\n",
       " '<p class=\"course-name\">MATH 168A. Topics in Applied Mathematics—Computer Science\\n(4)</p>',\n",
       " '<p class=\"course-name\">MATH 170A. Introduction\\n\\t\\t  to Numerical Analysis: Linear Algebra (4)</p>',\n",
       " '<p class=\"course-name\">MATH 170B. Introduction to Numerical Analysis: Approximation and Nonlinear Equations (4)</p>',\n",
       " '<p class=\"course-name\">MATH 170C. Introduction to Numerical Analysis: Ordinary Differential Equations (4)</p>',\n",
       " '<p class=\"course-name\">MATH 171A. Introduction\\n\\t\\t  to Numerical Optimization: Linear Programming (4)</p>',\n",
       " '<p class=\"course-name\">MATH 171B. Introduction\\n\\t\\t  to Numerical Optimization: Nonlinear Programming (4)</p>',\n",
       " '<p class=\"course-name\">MATH 173A. Optimization Methods for Data Science I (4)</p>',\n",
       " '<p class=\"course-name\">MATH 173B. Optimization Methods for Data Science II (4)</p>',\n",
       " '<p class=\"course-name\">MATH 174. Numerical Methods for Physical Modeling (4)</p>',\n",
       " '<p class=\"course-name\">MATH 175. Numerical\\n\\t\\t  Methods for Partial Differential Equations (4)</p>',\n",
       " '<p class=\"course-name\">MATH 179. Projects in Computational and Applied Mathematics (4)</p>',\n",
       " '<p class=\"course-name\">MATH 180A. Introduction to Probability (4)</p>',\n",
       " '<p class=\"course-name\">MATH 180B. Introduction to Stochastic Processes I (4)</p>',\n",
       " '<p class=\"course-name\">MATH 180C. Introduction to Stochastic Processes II (4)</p>',\n",
       " '<p class=\"course-name\">MATH 181A. Introduction to Mathematical Statistics I (4)</p>',\n",
       " '<p class=\"course-name\">MATH 181B. Introduction to Mathematical Statistics II (4)</p>',\n",
       " '<p class=\"course-name\">MATH 181C.\\n  Mathematical Statistics—Nonparametric Statistics (4)</p>',\n",
       " '<p class=\"course-name\">MATH 181D. Statistical Learning (4)</p>',\n",
       " '<p class=\"course-name\">MATH 181E. Mathematical Statistics—Time Series (4)</p>',\n",
       " '<p class=\"course-name\">MATH 181F. Sampling Surveys and Experimental Design (4)</p>',\n",
       " '<p class=\"course-name\">MATH 183. Statistical Methods (4)</p>',\n",
       " '<p class=\"course-name\">MATH 184. Enumerative Combinatorics (4)</p>',\n",
       " '<p class=\"course-name\">MATH 185. Introduction to Computational Statistics (4)</p>',\n",
       " '<p class=\"course-name\">MATH 186. Probability and Statistics for Bioinformatics (4)</p>',\n",
       " '<p class=\"course-name\">MATH 187A. Introduction to Cryptography (4)</p>',\n",
       " '<p class=\"course-name\">MATH 187B. Mathematics of Modern Cryptography (4)</p>',\n",
       " '<p class=\"course-name\">MATH 188. Algebraic Combinatorics (4)</p>',\n",
       " '<p class=\"course-name\">MATH 189. Exploratory Data Analysis and Inference (4)</p>',\n",
       " '<p class=\"course-name\">MATH 190A. Foundations of Topology I  (4)</p>',\n",
       " '<p class=\"course-name\">MATH 190B. Foundations of Topology II (4)</p>',\n",
       " '<p class=\"course-name\">MATH 191. Topics in Topology (4)</p>',\n",
       " '<p class=\"course-name\">MATH 193A. Actuarial Mathematics I (4)</p>',\n",
       " '<p class=\"course-name\">MATH 193B. Actuarial Mathematics II (4)</p>',\n",
       " '<p class=\"course-name\">MATH 194. The Mathematics of Finance (4)</p>',\n",
       " '<p class=\"course-name\">MATH 195. Introduction to Teaching in Mathematics (4)</p>',\n",
       " '<p class=\"course-name\">MATH 196. Student Colloquium (1)</p>',\n",
       " '<p class=\"course-name\">MATH 197. Mathematics Internship (2 or 4)</p>',\n",
       " '<p class=\"course-name\">MATH 199. Independent Study for Undergraduates (2 or 4)</p>',\n",
       " '<p class=\"course-name\">MATH 199H. Honors\\n\\t\\t  Thesis Research for Undergraduates (2–4)</p>',\n",
       " '<p class=\"course-name\">MATH 200A-B-C. Algebra (4-4-4)</p>',\n",
       " '<p class=\"course-name\">MATH 201A. Basic Topics in Algebra I (4)</p>',\n",
       " '<p class=\"course-name\">MATH 202A. Applied Algebra I (4)</p>',\n",
       " '<p class=\"course-name\">MATH 202B. Applied Algebra II (4)</p>',\n",
       " '<p class=\"course-name\">MATH 202C. Applied Algebra III (4)</p>',\n",
       " '<p class=\"course-name\">MATH 203A. Algebraic Geometry I (4)</p>',\n",
       " '<p class=\"course-name\">MATH 203B. Algebraic Geometry II (4)</p>',\n",
       " '<p class=\"course-name\">MATH 203C. Algebraic Geometry III (4)</p>',\n",
       " '<p class=\"course-name\">MATH 204A. Number Theory I (4)</p>',\n",
       " '<p class=\"course-name\">MATH 204B. Number Theory II (4)</p>',\n",
       " '<p class=\"course-name\">MATH 204C. Number Theory III (4)</p>',\n",
       " '<p class=\"course-name\">MATH 205. Topics in Number Theory (4)</p>',\n",
       " '<p class=\"course-name\">MATH 206A. Topics in Algebraic Geometry (4)</p>',\n",
       " '<p class=\"course-name\">MATH 206B. Further Topics in Algebraic Geometry (4)</p>',\n",
       " '<p class=\"course-name\">MATH 207A. Topics in Algebra (4)</p>',\n",
       " '<p class=\"course-name\">MATH 208. Seminar in Algebraic Geometry (1) </p>',\n",
       " '<p class=\"course-name\">MATH 209. Seminar in Number Theory (1) </p>',\n",
       " '<p class=\"course-name\">MATH 210A. Mathematical\\n\\t\\t  Methods in Physics and Engineering (4)</p>',\n",
       " '<p class=\"course-name\">MATH 210B. Mathematical\\n\\t\\t  Methods in Physics and Engineering (4)</p>',\n",
       " '<p class=\"course-name\">MATH 210C. Mathematical\\n\\t\\t  Methods in Physics and Engineering (4)</p>',\n",
       " '<p class=\"course-name\">MATH 217. Topics in Applied Mathematics (4)</p>',\n",
       " '<p class=\"course-name\">MATH 218. Seminar in Mathematics of Biological Systems (1)</p>',\n",
       " '<p class=\"course-name\">MATH 220A-B-C. Complex Analysis (4-4-4)</p>',\n",
       " '<p class=\"course-name\">MATH 221A. Topics in Several Complex Variables (4)</p>',\n",
       " '<p class=\"course-name\">MATH 221B. Further Topics in Several Complex Variables (4)</p>',\n",
       " '<p class=\"course-name\">MATH 231A-B-C. Partial Differential Equations (4-4-4)</p>',\n",
       " '<p class=\"course-name\">MATH 237A. Topics in Differential Equations (4)</p>',\n",
       " '<p class=\"course-name\">MATH 237B. Further Topics in Differential Equations (4)</p>',\n",
       " '<p class=\"course-name\">MATH 240A-B-C. Real Analysis (4-4-4)</p>',\n",
       " '<p class=\"course-name\">MATH 241A-B. Functional Analysis (4-4)</p>',\n",
       " '<p class=\"course-name\">MATH 242. Topics in Fourier Analysis (4)</p>',\n",
       " '<p class=\"course-name\">MATH 243. Seminar in Functional Analysis (1)</p>',\n",
       " '<p class=\"course-name\">MATH 245A. Convex Analysis and Optimization I (4)</p>',\n",
       " '<p class=\"course-name\">MATH 245B. Convex Analysis and Optimization II (4)</p>',\n",
       " '<p class=\"course-name\">MATH 245C. Convex Analysis and Optimization III (4)</p>',\n",
       " '<p class=\"course-name\">MATH 247A. Topics in Real Analysis (4)</p>',\n",
       " '<p class=\"course-name\">MATH 247B. Further Topics in Real Analysis (4)</p>',\n",
       " '<p class=\"course-name\">MATH 248. Seminar in Real Analysis (1) </p>',\n",
       " '<p class=\"course-name\">MATH 250A-B-C. Differential Geometry (4-4-4)</p>',\n",
       " '<p class=\"course-name\">MATH 251A-B-C. Lie Groups (4-4-4)</p>',\n",
       " '<p class=\"course-name\">MATH 256. Seminar in Lie Groups and Lie Algebras (1)</p>',\n",
       " '<p class=\"course-name\">MATH 257A. Topics in Differential Geometry (4)</p>',\n",
       " '<p class=\"course-name\">MATH 257B. Further Topics in Differential Geometry (4)</p>',\n",
       " '<p class=\"course-name\">MATH 258. Seminar in Differential Geometry (1)</p>',\n",
       " '<p class=\"course-name\">MATH 259A-B-C. Geometrical Physics (4-4-4)</p>',\n",
       " '<p class=\"course-name\">MATH 260A. Mathematical Logic I (4)</p>',\n",
       " '<p class=\"course-name\">MATH 260B. Mathematical Logic II (4)</p>',\n",
       " '<p class=\"course-name\">MATH 261A. Probabilistic Combinatorics and Algorithms (4)</p>',\n",
       " '<p class=\"course-name\">MATH 261B. Probabilistic\\n\\t\\t  Combinatorics and Algorithms II (4)</p>',\n",
       " '<p class=\"course-name\">MATH 261C. Probabilistic\\n\\t\\t  Combinatorics and Algorithms III (4)</p>',\n",
       " '<p class=\"course-name\">MATH 262A. Topics in Combinatorial Mathematics (4)</p>',\n",
       " '<p class=\"course-name\">MATH 262B. Further Topics in Combinatorial Mathematics (4)</p>',\n",
       " '<p class=\"course-name\">MATH 264A-B-C. Combinatorics (4-4-4)</p>',\n",
       " '<p class=\"course-name\">MATH 267A. Topics in Mathematical Logic (4)</p>',\n",
       " '<p class=\"course-name\">MATH 267B. Further Topics in Mathematical Logic (4)</p>',\n",
       " '<p class=\"course-name\">MATH 268. Seminar in Logic (1) </p>',\n",
       " '<p class=\"course-name\">MATH 269. Seminar in Combinatorics (1) </p>',\n",
       " '<p class=\"course-name\">MATH 270A. Numerical Linear Algebra (4)</p>',\n",
       " '<p class=\"course-name\">MATH 270B. Numerical\\n\\t\\t  Approximation and Nonlinear Equations (4)</p>',\n",
       " '<p class=\"course-name\">MATH 270C. Numerical Ordinary Differential Equations (4)</p>',\n",
       " '<p class=\"course-name\">MATH 271A-B-C. Numerical Optimization (4-4-4)</p>',\n",
       " '<p class=\"course-name\">MATH 272A. Numerical Partial Differential Equations I (4)</p>',\n",
       " '<p class=\"course-name\">MATH 272B. Numerical Partial Differential Equations II (4)</p>',\n",
       " '<p class=\"course-name\">MATH 272C. Numerical Partial Differential Equations III (4)</p>',\n",
       " '<p class=\"course-name\">MATH 273A. Advanced\\n\\t\\t  Techniques in Computational Mathematics I (4)</p>',\n",
       " '<p class=\"course-name\">MATH 273B. Advanced\\n\\t\\t  Techniques in Computational Mathematics II (4)</p>',\n",
       " '<p class=\"course-name\">MATH 273C. Advanced\\n\\t\\t  Techniques in Computational Mathematics III (4)</p>',\n",
       " '<p class=\"course-name\">MATH 274. Numerical Methods for Physical Modeling (4)</p>',\n",
       " '<p class=\"course-name\">MATH 275. Numerical Methods for Partial Differential Equations (4)</p>',\n",
       " '<p class=\"course-name\">MATH 276. Numerical Analysis in Multiscale Biology (4)</p>',\n",
       " '<p class=\"course-name\">MATH 277A. Topics in Computational and Applied Mathematics  (4)</p>',\n",
       " '<p class=\"course-name\">MATH 278A. Seminar in Computational and Applied Mathematics (1) </p>',\n",
       " '<p class=\"course-name\">MATH 278B. Seminar in Mathematical Physics/PDE (1) </p>',\n",
       " '<p class=\"course-name\">MATH 278C. Seminar in Optimization (1)</p>',\n",
       " '<p class=\"course-name\">MATH 279. Projects in Computational and Applied Mathematics (4)</p>',\n",
       " '<p class=\"course-name\">MATH 280A. Probability Theory I (4)</p>',\n",
       " '<p class=\"course-name\">MATH 280B. Probability Theory II (4)</p>',\n",
       " '<p class=\"course-name\">MATH 280C. Probability Theory III (4)</p>',\n",
       " '<p class=\"course-name\">MATH 281A. Mathematical Statistics (4)</p>',\n",
       " '<p class=\"course-name\">MATH 281B. Mathematical Statistics (4)</p>',\n",
       " '<p class=\"course-name\">MATH 281C. Mathematical Statistics (4)</p>',\n",
       " '<p class=\"course-name\">MATH 282A. Applied Statistics I (4)</p>',\n",
       " '<p class=\"course-name\">MATH 282B. Applied Statistics II (4)</p>',\n",
       " '<p class=\"course-name\">MATH 283. Statistical Methods in Bioinformatics (4)</p>',\n",
       " '<p class=\"course-name\">MATH 284. Survival Analysis (4)</p>',\n",
       " '<p class=\"course-name\">MATH 285. Stochastic Processes (4)</p>',\n",
       " '<p class=\"course-name\">MATH 286. Stochastic Differential Equations (4)</p>',\n",
       " '<p class=\"course-name\">MATH 287A. Time Series Analysis (4)</p>',\n",
       " '<p class=\"course-name\">MATH 287B. Multivariate Analysis (4)</p>',\n",
       " '<p class=\"course-name\">MATH 287C. Advanced Time Series Analysis (4)</p>',\n",
       " '<p class=\"course-name\">MATH 287D. Statistical Learning (4)</p>',\n",
       " '<p class=\"course-name\">MATH 288. Seminar in Probability and Statistics (1) </p>',\n",
       " '<p class=\"course-name\">MATH 289A. Topics in Probability and Statistics (4)</p>',\n",
       " '<p class=\"course-name\">MATH 289B. Further Topics in Probability and Statistics (4)</p>',\n",
       " '<p class=\"course-name\">MATH 289C. Exploratory Data Analysis and Inference (4)</p>',\n",
       " '<p class=\"course-name\">MATH 290A-B-C. Topology (4-4-4)</p>',\n",
       " '<p class=\"course-name\">MATH 291A. Topics in Topology (4)</p>',\n",
       " '<p class=\"course-name\">MATH 291B. Further Topics in Topology (4)</p>',\n",
       " '<p class=\"course-name\">MATH 292. Seminar in Topology (1) </p>',\n",
       " '<p class=\"course-name\">MATH 294. The Mathematics of Finance (4)</p>',\n",
       " '<p class=\"course-name\">MATH 295. Special Topics in Mathematics (1 to 4)</p>',\n",
       " '<p class=\"course-name\">MATH 296. Graduate Student Colloquium (1)</p>',\n",
       " '<p class=\"course-name\">MATH 297. Mathematics Graduate Research Internship (2–4)</p>',\n",
       " '<p class=\"course-name\">MATH 299. Reading and Research (1 to 12)</p>',\n",
       " '<p class=\"course-name\">MATH 500. Teaching Assistant Training (2 or 4)</p>']"
      ]
     },
     "execution_count": 34,
     "metadata": {},
     "output_type": "execute_result"
    }
   ],
   "source": [
    "name_list"
   ]
  },
  {
   "cell_type": "markdown",
   "metadata": {},
   "source": [
    "create a tuple with all values instantly"
   ]
  },
  {
   "cell_type": "code",
   "execution_count": null,
   "metadata": {},
   "outputs": [],
   "source": [
    "class course_node(name):\n",
    "    def __init__(self, name):\n",
    "        self.name = name\n",
    "        self.prereqs = []"
   ]
  },
  {
   "cell_type": "code",
   "execution_count": null,
   "metadata": {},
   "outputs": [],
   "source": [
    "def make_course_node():\n",
    "    #feeds cleaned data into it\n",
    "    "
   ]
  },
  {
   "cell_type": "code",
   "execution_count": null,
   "metadata": {},
   "outputs": [],
   "source": [
    "def make_graph()\n",
    "\n"
   ]
  }
 ],
 "metadata": {
  "kernelspec": {
   "display_name": "Python 3",
   "language": "python",
   "name": "python3"
  },
  "language_info": {
   "codemirror_mode": {
    "name": "ipython",
    "version": 3
   },
   "file_extension": ".py",
   "mimetype": "text/x-python",
   "name": "python",
   "nbconvert_exporter": "python",
   "pygments_lexer": "ipython3",
   "version": "3.7.4"
  }
 },
 "nbformat": 4,
 "nbformat_minor": 2
}
