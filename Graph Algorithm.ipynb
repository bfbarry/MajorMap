{
 "cells": [
  {
   "cell_type": "code",
   "execution_count": 12,
   "metadata": {},
   "outputs": [],
   "source": [
    "# classes are just ints\n",
    "classes = {1: [], 2: [[1]], 3: [[1]], 4: [], 5: [], 6:[[2,3],[4]], 7:[], 8 : [[6],[7]]}\n",
    "\n",
    "\n",
    "[['this', 'this'], '']"
   ]
  },
  {
   "cell_type": "code",
   "execution_count": 33,
   "metadata": {},
   "outputs": [
    {
     "name": "stdout",
     "output_type": "stream",
     "text": [
      "1 :\n",
      "2 :\n",
      "[1]\n",
      "3 :\n",
      "[1]\n",
      "4 :\n",
      "5 :\n",
      "6 :\n",
      "[2, 3]\n",
      "[4]\n",
      "7 :\n",
      "8 :\n",
      "[6]\n",
      "[7]\n"
     ]
    }
   ],
   "source": [
    "for i in classes:\n",
    "    print(i, \":\")\n",
    "    for n in classes[i]:\n",
    "        print(n)"
   ]
  },
  {
   "cell_type": "code",
   "execution_count": null,
   "metadata": {},
   "outputs": [],
   "source": [
    "class node(object):\n",
    "    def __init__(self):\n",
    "        "
   ]
  },
  {
   "cell_type": "code",
   "execution_count": 17,
   "metadata": {},
   "outputs": [
    {
     "data": {
      "text/plain": [
       "['yes ', ' 2 or 3 ', ' 4 ', ' no']"
      ]
     },
     "execution_count": 17,
     "metadata": {},
     "output_type": "execute_result"
    }
   ],
   "source": [
    "a = 'yes and 2 or 3 and 4 and no'\n",
    "a.split('and')"
   ]
  },
  {
   "cell_type": "code",
   "execution_count": 30,
   "metadata": {},
   "outputs": [
    {
     "name": "stdout",
     "output_type": "stream",
     "text": [
      "[['MATH 20D '], [' either MATH 18', 'MATH 20F', 'MATH 31AH, '], [' MATH 109', 'MATH 31CH, '], [' MATH 180A']]\n"
     ]
    }
   ],
   "source": [
    "b180 = 'MATH 20D and either MATH 18 or MATH 20F or MATH 31AH, and MATH 109 or MATH 31CH, and MATH 180A. Students who have not completed listed prerequisites may enroll with consent of instructor.'\n",
    "#unwanted characters = {'.',';'}\n",
    "\n",
    "\n",
    "for i, char in enumerate(b180):\n",
    "    if char == '.' or char == ';':\n",
    "        b180 = b180[:i]\n",
    "                       \n",
    "                       \n",
    "and_split = b180.split('and') \n",
    "prereq = []\n",
    "for i in and_split:\n",
    "    prereq.append(i.split(' or '))\n",
    "print(prereq)\n"
   ]
  },
  {
   "cell_type": "code",
   "execution_count": 25,
   "metadata": {},
   "outputs": [
    {
     "name": "stdout",
     "output_type": "stream",
     "text": [
      "['big yes ', ' hello what hey yo say']\n",
      "['big yes ']\n"
     ]
    }
   ],
   "source": [
    "a = 'big yes no hello what hey yo say'\n",
    "a = a.split('no')\n",
    "print(a)\n",
    "a = a[0].split('hello')\n",
    "print(a)"
   ]
  },
  {
   "cell_type": "code",
   "execution_count": null,
   "metadata": {},
   "outputs": [],
   "source": []
  }
 ],
 "metadata": {
  "kernelspec": {
   "display_name": "Python 3",
   "language": "python",
   "name": "python3"
  },
  "language_info": {
   "codemirror_mode": {
    "name": "ipython",
    "version": 3
   },
   "file_extension": ".py",
   "mimetype": "text/x-python",
   "name": "python",
   "nbconvert_exporter": "python",
   "pygments_lexer": "ipython3",
   "version": "3.7.4"
  }
 },
 "nbformat": 4,
 "nbformat_minor": 2
}
